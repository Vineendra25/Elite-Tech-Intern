{
 "cells": [
  {
   "cell_type": "code",
   "execution_count": 7,
   "id": "5c82e8ac-2300-4f7f-8396-a6f548da5be0",
   "metadata": {},
   "outputs": [
    {
     "name": "stdout",
     "output_type": "stream",
     "text": [
      "Recommended items for user1: ['item3', 'item1']\n"
     ]
    }
   ],
   "source": [
    "import pandas as pd \n",
    "import numpy as np \n",
    "from sklearn.metrics.pairwise import cosine_similarity\n",
    "\n",
    "#Sample dataset (User, Item, Rating)\n",
    "\n",
    "data = [ ('user1', 'item1', 4), ('user1', 'item2', 5), ('user2', 'item1', 3), ('user2', 'item3', 4), ('user3', 'item2', 2), ('user3', 'item3', 5), ]\n",
    "\n",
    "#Convert to DataFrame\n",
    "\n",
    "df = pd.DataFrame(data, columns=['user', 'item', 'rating'])\n",
    "\n",
    "#Pivot the table to get users as rows and items as columns\n",
    "\n",
    "user_item_matrix = df.pivot(index='user', columns='item', values='rating').fillna(0)\n",
    "\n",
    "#Compute cosine similarity between users\n",
    "\n",
    "user_similarity = cosine_similarity(user_item_matrix) \n",
    "user_similarity_df = pd.DataFrame(user_similarity, index=user_item_matrix.index, columns=user_item_matrix.index)\n",
    "\n",
    "#Function to get recommendations for a user\n",
    "\n",
    "def get_recommendations(user, num_recommendations=1): \n",
    "    similar_users = user_similarity_df[user].sort_values(ascending=False)[1:num_recommendations+1].index \n",
    "    recommended_items = df[df['user'].isin(similar_users)].groupby('item')['rating'].mean().sort_values(ascending=False).index.tolist() \n",
    "    return recommended_items[:num_recommendations]\n",
    "\n",
    "#Example: Get recommendations for 'user1'\n",
    "\n",
    "recommendations = get_recommendations('user1', 2) \n",
    "print(f\"Recommended items for user1: {recommendations}\")"
   ]
  },
  {
   "cell_type": "code",
   "execution_count": null,
   "id": "1c73055e-31fb-4717-b057-0618e5f1e1a1",
   "metadata": {},
   "outputs": [],
   "source": []
  }
 ],
 "metadata": {
  "kernelspec": {
   "display_name": "Python 3 (ipykernel)",
   "language": "python",
   "name": "python3"
  },
  "language_info": {
   "codemirror_mode": {
    "name": "ipython",
    "version": 3
   },
   "file_extension": ".py",
   "mimetype": "text/x-python",
   "name": "python",
   "nbconvert_exporter": "python",
   "pygments_lexer": "ipython3",
   "version": "3.12.4"
  }
 },
 "nbformat": 4,
 "nbformat_minor": 5
}
